{
 "cells": [
  {
   "cell_type": "markdown",
   "id": "ff09945b",
   "metadata": {},
   "source": [
    "Q1.\n"
   ]
  },
  {
   "cell_type": "markdown",
   "id": "cc529806",
   "metadata": {},
   "source": [
    "The def keyword is used to create, (or define) a function."
   ]
  },
  {
   "cell_type": "code",
   "execution_count": 160,
   "id": "b7e2bf84",
   "metadata": {},
   "outputs": [
    {
     "data": {
      "text/plain": [
       "range(1, 25)"
      ]
     },
     "execution_count": 160,
     "metadata": {},
     "output_type": "execute_result"
    }
   ],
   "source": [
    "range(1,25)"
   ]
  },
  {
   "cell_type": "code",
   "execution_count": 161,
   "id": "2e89f41b",
   "metadata": {},
   "outputs": [],
   "source": [
    "def Odd_Num():\n",
    "    l1 =[]\n",
    "    for i in range(1,25):\n",
    "        if i%2!=0 :\n",
    "            l1.append(i)\n",
    "    return l1   "
   ]
  },
  {
   "cell_type": "code",
   "execution_count": 162,
   "id": "13811514",
   "metadata": {},
   "outputs": [
    {
     "data": {
      "text/plain": [
       "[1, 3, 5, 7, 9, 11, 13, 15, 17, 19, 21, 23]"
      ]
     },
     "execution_count": 162,
     "metadata": {},
     "output_type": "execute_result"
    }
   ],
   "source": [
    "Odd_Num()"
   ]
  },
  {
   "cell_type": "markdown",
   "id": "91759eb2",
   "metadata": {},
   "source": [
    "Q2."
   ]
  },
  {
   "cell_type": "markdown",
   "id": "bdd206da",
   "metadata": {},
   "source": [
    "1.*args:\n",
    "The *args syntax is used to pass a variable number of non-keyworded arguments to a function. The args parameter name is not required; you can use any name as long as it is prefixed with a single asterisk (*). Within the function, args is treated as a tuple that contains all the arguments passed."
   ]
  },
  {
   "cell_type": "code",
   "execution_count": 163,
   "id": "5ca49899",
   "metadata": {},
   "outputs": [],
   "source": [
    "def test(*args):\n",
    "    \n",
    "    return args\n",
    "    "
   ]
  },
  {
   "cell_type": "code",
   "execution_count": 164,
   "id": "2cc2bb0c",
   "metadata": {},
   "outputs": [
    {
     "data": {
      "text/plain": [
       "tuple"
      ]
     },
     "execution_count": 164,
     "metadata": {},
     "output_type": "execute_result"
    }
   ],
   "source": [
    "type(test())"
   ]
  },
  {
   "cell_type": "code",
   "execution_count": 165,
   "id": "dc5c5eb8",
   "metadata": {},
   "outputs": [
    {
     "data": {
      "text/plain": [
       "(2, 3, 4)"
      ]
     },
     "execution_count": 165,
     "metadata": {},
     "output_type": "execute_result"
    }
   ],
   "source": [
    "test(2,3,4)"
   ]
  },
  {
   "cell_type": "code",
   "execution_count": 166,
   "id": "b343ff2b",
   "metadata": {},
   "outputs": [
    {
     "data": {
      "text/plain": [
       "(1, 2, 3, 'Ranjeet', 'kumar', [1, 2, 3, 4, 4])"
      ]
     },
     "execution_count": 166,
     "metadata": {},
     "output_type": "execute_result"
    }
   ],
   "source": [
    "test(1,2,3,\"Ranjeet\" , \"kumar\" , [1,2,3,4,4])"
   ]
  },
  {
   "cell_type": "code",
   "execution_count": 167,
   "id": "c364ee72",
   "metadata": {},
   "outputs": [],
   "source": [
    "def my_function(*args):\n",
    "    for arg in args:\n",
    "        print(arg)\n",
    "\n"
   ]
  },
  {
   "cell_type": "code",
   "execution_count": 168,
   "id": "e5b2616d",
   "metadata": {},
   "outputs": [
    {
     "name": "stdout",
     "output_type": "stream",
     "text": [
      "Hello\n",
      "World\n",
      "!\n"
     ]
    }
   ],
   "source": [
    "my_function('Hello', 'World', '!')"
   ]
  },
  {
   "cell_type": "markdown",
   "id": "ef13d814",
   "metadata": {},
   "source": [
    "2.**kwargs:\n",
    "The **kwargs syntax allows you to pass a variable number of keyword arguments to a function. The kwargs parameter name is not required; you can use any name as long as it is prefixed with a double asterisk (**). Within the function, kwargs is treated as a dictionary that contains the keyword arguments passed."
   ]
  },
  {
   "cell_type": "code",
   "execution_count": 169,
   "id": "04734fd0",
   "metadata": {},
   "outputs": [],
   "source": [
    "def test2(**kwargs):\n",
    "    return kwargs"
   ]
  },
  {
   "cell_type": "code",
   "execution_count": 170,
   "id": "ff6c5a3e",
   "metadata": {},
   "outputs": [
    {
     "data": {
      "text/plain": [
       "dict"
      ]
     },
     "execution_count": 170,
     "metadata": {},
     "output_type": "execute_result"
    }
   ],
   "source": [
    "type(test2())"
   ]
  },
  {
   "cell_type": "code",
   "execution_count": 171,
   "id": "f66c7b66",
   "metadata": {},
   "outputs": [
    {
     "data": {
      "text/plain": [
       "{'a': 234, 'b': [3, 4, 5, 6], 'c': 'Ranjeet'}"
      ]
     },
     "execution_count": 171,
     "metadata": {},
     "output_type": "execute_result"
    }
   ],
   "source": [
    "test2(a= 234, b = [3,4,5,6], c=\"Ranjeet\")"
   ]
  },
  {
   "cell_type": "code",
   "execution_count": 172,
   "id": "95221d17",
   "metadata": {},
   "outputs": [],
   "source": [
    "def test3(**rk):\n",
    "    return rk"
   ]
  },
  {
   "cell_type": "code",
   "execution_count": 173,
   "id": "1f519cfd",
   "metadata": {},
   "outputs": [
    {
     "data": {
      "text/plain": [
       "{'k': 'india'}"
      ]
     },
     "execution_count": 173,
     "metadata": {},
     "output_type": "execute_result"
    }
   ],
   "source": [
    "test3(k=\"india\")"
   ]
  },
  {
   "cell_type": "code",
   "execution_count": 174,
   "id": "7622ce78",
   "metadata": {},
   "outputs": [
    {
     "name": "stdout",
     "output_type": "stream",
     "text": [
      "name Ranjeet\n",
      "age 22\n",
      "city Gopalganj\n"
     ]
    }
   ],
   "source": [
    "def my_function(**kwargs):\n",
    "    for key, value in kwargs.items():\n",
    "        print(key, value)\n",
    "\n",
    "my_function(name='Ranjeet', age=22, city='Gopalganj')"
   ]
  },
  {
   "cell_type": "markdown",
   "id": "015ea401",
   "metadata": {},
   "source": [
    "Q6.\n"
   ]
  },
  {
   "cell_type": "code",
   "execution_count": 175,
   "id": "88ef2572",
   "metadata": {},
   "outputs": [],
   "source": [
    "def Fib_test():\n",
    "    a,b=0,1\n",
    "    while True :\n",
    "        yield a\n",
    "        a,b = b , a+b\n",
    "        "
   ]
  },
  {
   "cell_type": "code",
   "execution_count": 176,
   "id": "eddb9350",
   "metadata": {},
   "outputs": [],
   "source": [
    "fib=Fib_test()"
   ]
  },
  {
   "cell_type": "code",
   "execution_count": 177,
   "id": "9c6a312d",
   "metadata": {},
   "outputs": [
    {
     "data": {
      "text/plain": [
       "generator"
      ]
     },
     "execution_count": 177,
     "metadata": {},
     "output_type": "execute_result"
    }
   ],
   "source": [
    "type(fib)"
   ]
  },
  {
   "cell_type": "code",
   "execution_count": 178,
   "id": "2e93bd2c",
   "metadata": {},
   "outputs": [
    {
     "name": "stdout",
     "output_type": "stream",
     "text": [
      "0\n",
      "1\n",
      "1\n",
      "2\n",
      "3\n",
      "5\n",
      "8\n",
      "13\n",
      "21\n",
      "34\n"
     ]
    }
   ],
   "source": [
    "for i in range(10):\n",
    "    print(next(fib))"
   ]
  },
  {
   "cell_type": "markdown",
   "id": "b6e5b0a2",
   "metadata": {},
   "source": [
    "Q3."
   ]
  },
  {
   "cell_type": "markdown",
   "id": "24a2fd57",
   "metadata": {},
   "source": [
    "In Python, an iterator is an object that allows you to traverse through a sequence of elements. It provides a way to access the elements of a container (such as a list or a tuple) sequentially without needing to know the internal structure of the container."
   ]
  },
  {
   "cell_type": "markdown",
   "id": "0b2de97a",
   "metadata": {},
   "source": [
    "To initialize an iterator object in Python, you can use the iter() function. This function takes an iterable object as an argument and returns an iterator object"
   ]
  },
  {
   "cell_type": "code",
   "execution_count": 179,
   "id": "8f96fe45",
   "metadata": {},
   "outputs": [
    {
     "name": "stdout",
     "output_type": "stream",
     "text": [
      "2\n",
      "4\n",
      "6\n",
      "8\n",
      "10\n"
     ]
    }
   ],
   "source": [
    "my_list = [2, 4, 6, 8, 10, 12, 14, 16, 18, 20]\n",
    "my_iterator = iter(my_list)\n",
    "for _ in range(5):\n",
    "    element = next(my_iterator)\n",
    "    print(element)\n"
   ]
  },
  {
   "cell_type": "markdown",
   "id": "0206dba5",
   "metadata": {},
   "source": [
    "Q4."
   ]
  },
  {
   "cell_type": "markdown",
   "id": "312dff59",
   "metadata": {},
   "source": [
    "In Python, a generator function is a special type of function that returns an iterator. It uses the yield keyword instead of return to provide a sequence of values one at a time. "
   ]
  },
  {
   "cell_type": "markdown",
   "id": "0088c26f",
   "metadata": {},
   "source": [
    "The yield keyword is used in a generator function to define the points at which the function should pause its execution and yield a value to the caller. When the function encounters a yield statement, it temporarily suspends its execution and returns the yielded value to the caller. The state of the function is saved so that it can be resumed from where it left off when the next value is requested. This allows generator functions to generate values lazily, as they are needed, rather than computing and storing all values at once"
   ]
  },
  {
   "cell_type": "code",
   "execution_count": 180,
   "id": "2ed7bf9a",
   "metadata": {},
   "outputs": [],
   "source": [
    "def even_numbers(n):\n",
    "    num = 0\n",
    "    while num <= n:\n",
    "        yield num\n",
    "        num=num+2"
   ]
  },
  {
   "cell_type": "code",
   "execution_count": 181,
   "id": "33455397",
   "metadata": {},
   "outputs": [
    {
     "name": "stdout",
     "output_type": "stream",
     "text": [
      "0\n",
      "2\n",
      "4\n",
      "6\n",
      "8\n",
      "10\n"
     ]
    }
   ],
   "source": [
    "even_nums = even_numbers(10)\n",
    "\n",
    "for num in even_nums:\n",
    "    print(num)"
   ]
  },
  {
   "cell_type": "markdown",
   "id": "047dd109",
   "metadata": {},
   "source": [
    "Q5."
   ]
  },
  {
   "cell_type": "code",
   "execution_count": 182,
   "id": "c7016466",
   "metadata": {},
   "outputs": [],
   "source": [
    "def prime_num():\n",
    "    for i in range(2,1000): \n",
    "        flag =0 \n",
    "        for j in range(2,i):\n",
    "            if (i%j==0):\n",
    "                flag = 1\n",
    "                break\n",
    "        if (flag==0):\n",
    "            yield i"
   ]
  },
  {
   "cell_type": "code",
   "execution_count": 183,
   "id": "74d0b0f0",
   "metadata": {},
   "outputs": [
    {
     "data": {
      "text/plain": [
       "<generator object prime_num at 0x00000220541CAA70>"
      ]
     },
     "execution_count": 183,
     "metadata": {},
     "output_type": "execute_result"
    }
   ],
   "source": [
    "prime_num()"
   ]
  },
  {
   "cell_type": "code",
   "execution_count": 184,
   "id": "8d2867a3",
   "metadata": {},
   "outputs": [
    {
     "name": "stdout",
     "output_type": "stream",
     "text": [
      "2\n",
      "3\n",
      "5\n",
      "7\n",
      "11\n",
      "13\n",
      "17\n",
      "19\n",
      "23\n",
      "29\n",
      "31\n",
      "37\n",
      "41\n",
      "43\n",
      "47\n",
      "53\n",
      "59\n",
      "61\n",
      "67\n",
      "71\n"
     ]
    }
   ],
   "source": [
    "g =prime_num()\n",
    "for i in range(20):\n",
    "    print(next(g))"
   ]
  },
  {
   "cell_type": "markdown",
   "id": "21405d73",
   "metadata": {},
   "source": [
    "Q7."
   ]
  },
  {
   "cell_type": "code",
   "execution_count": 185,
   "id": "e1b43e8a",
   "metadata": {},
   "outputs": [],
   "source": [
    "s ='pwskills'"
   ]
  },
  {
   "cell_type": "code",
   "execution_count": 186,
   "id": "bd0b502d",
   "metadata": {},
   "outputs": [],
   "source": [
    "l=[x for x in s ]"
   ]
  },
  {
   "cell_type": "code",
   "execution_count": 187,
   "id": "464a1203",
   "metadata": {},
   "outputs": [
    {
     "data": {
      "text/plain": [
       "['p', 'w', 's', 'k', 'i', 'l', 'l', 's']"
      ]
     },
     "execution_count": 187,
     "metadata": {},
     "output_type": "execute_result"
    }
   ],
   "source": [
    "l\n"
   ]
  },
  {
   "cell_type": "markdown",
   "id": "9151bc79",
   "metadata": {},
   "source": [
    "Q8."
   ]
  },
  {
   "cell_type": "code",
   "execution_count": 188,
   "id": "5420c474",
   "metadata": {},
   "outputs": [
    {
     "name": "stdout",
     "output_type": "stream",
     "text": [
      "Enter a number: 212\n",
      "212 is a palindrome.\n"
     ]
    }
   ],
   "source": [
    "def is_palindrome(number):\n",
    "    temp = number\n",
    "    reverse = 0\n",
    "\n",
    "    while temp > 0:\n",
    "        digit = temp % 10\n",
    "        reverse = (reverse * 10) + digit\n",
    "        temp = temp // 10\n",
    "\n",
    "    if number == reverse:\n",
    "        return True\n",
    "    else:\n",
    "        return False\n",
    "\n",
    "\n",
    "# Example usage\n",
    "num = int(input(\"Enter a number: \"))\n",
    "if is_palindrome(num):\n",
    "    print(f\"{num} is a palindrome.\")\n",
    "else:\n",
    "    print(f\"{num} is not a palindrome.\")\n"
   ]
  },
  {
   "cell_type": "markdown",
   "id": "b5448bc0",
   "metadata": {},
   "source": [
    "Q9."
   ]
  },
  {
   "cell_type": "code",
   "execution_count": 189,
   "id": "6b153bed",
   "metadata": {},
   "outputs": [],
   "source": [
    "l1=list(range(1,100))\n"
   ]
  },
  {
   "cell_type": "code",
   "execution_count": 190,
   "id": "680fc327",
   "metadata": {},
   "outputs": [],
   "source": [
    "l2 =[x for x in l1 ]"
   ]
  },
  {
   "cell_type": "code",
   "execution_count": 193,
   "id": "92a7241f",
   "metadata": {},
   "outputs": [
    {
     "data": {
      "text/plain": [
       "[1,\n",
       " 2,\n",
       " 3,\n",
       " 4,\n",
       " 5,\n",
       " 6,\n",
       " 7,\n",
       " 8,\n",
       " 9,\n",
       " 10,\n",
       " 11,\n",
       " 12,\n",
       " 13,\n",
       " 14,\n",
       " 15,\n",
       " 16,\n",
       " 17,\n",
       " 18,\n",
       " 19,\n",
       " 20,\n",
       " 21,\n",
       " 22,\n",
       " 23,\n",
       " 24,\n",
       " 25,\n",
       " 26,\n",
       " 27,\n",
       " 28,\n",
       " 29,\n",
       " 30,\n",
       " 31,\n",
       " 32,\n",
       " 33,\n",
       " 34,\n",
       " 35,\n",
       " 36,\n",
       " 37,\n",
       " 38,\n",
       " 39,\n",
       " 40,\n",
       " 41,\n",
       " 42,\n",
       " 43,\n",
       " 44,\n",
       " 45,\n",
       " 46,\n",
       " 47,\n",
       " 48,\n",
       " 49,\n",
       " 50,\n",
       " 51,\n",
       " 52,\n",
       " 53,\n",
       " 54,\n",
       " 55,\n",
       " 56,\n",
       " 57,\n",
       " 58,\n",
       " 59,\n",
       " 60,\n",
       " 61,\n",
       " 62,\n",
       " 63,\n",
       " 64,\n",
       " 65,\n",
       " 66,\n",
       " 67,\n",
       " 68,\n",
       " 69,\n",
       " 70,\n",
       " 71,\n",
       " 72,\n",
       " 73,\n",
       " 74,\n",
       " 75,\n",
       " 76,\n",
       " 77,\n",
       " 78,\n",
       " 79,\n",
       " 80,\n",
       " 81,\n",
       " 82,\n",
       " 83,\n",
       " 84,\n",
       " 85,\n",
       " 86,\n",
       " 87,\n",
       " 88,\n",
       " 89,\n",
       " 90,\n",
       " 91,\n",
       " 92,\n",
       " 93,\n",
       " 94,\n",
       " 95,\n",
       " 96,\n",
       " 97,\n",
       " 98,\n",
       " 99]"
      ]
     },
     "execution_count": 193,
     "metadata": {},
     "output_type": "execute_result"
    }
   ],
   "source": [
    "l2"
   ]
  },
  {
   "cell_type": "code",
   "execution_count": 203,
   "id": "a82364f2",
   "metadata": {},
   "outputs": [],
   "source": [
    "l3 = [x for x in l2 if x%2!=0]"
   ]
  },
  {
   "cell_type": "code",
   "execution_count": 204,
   "id": "bd5ca829",
   "metadata": {},
   "outputs": [
    {
     "data": {
      "text/plain": [
       "[1,\n",
       " 3,\n",
       " 5,\n",
       " 7,\n",
       " 9,\n",
       " 11,\n",
       " 13,\n",
       " 15,\n",
       " 17,\n",
       " 19,\n",
       " 21,\n",
       " 23,\n",
       " 25,\n",
       " 27,\n",
       " 29,\n",
       " 31,\n",
       " 33,\n",
       " 35,\n",
       " 37,\n",
       " 39,\n",
       " 41,\n",
       " 43,\n",
       " 45,\n",
       " 47,\n",
       " 49,\n",
       " 51,\n",
       " 53,\n",
       " 55,\n",
       " 57,\n",
       " 59,\n",
       " 61,\n",
       " 63,\n",
       " 65,\n",
       " 67,\n",
       " 69,\n",
       " 71,\n",
       " 73,\n",
       " 75,\n",
       " 77,\n",
       " 79,\n",
       " 81,\n",
       " 83,\n",
       " 85,\n",
       " 87,\n",
       " 89,\n",
       " 91,\n",
       " 93,\n",
       " 95,\n",
       " 97,\n",
       " 99]"
      ]
     },
     "execution_count": 204,
     "metadata": {},
     "output_type": "execute_result"
    }
   ],
   "source": [
    "l3"
   ]
  },
  {
   "cell_type": "code",
   "execution_count": null,
   "id": "b42dce10",
   "metadata": {},
   "outputs": [],
   "source": []
  }
 ],
 "metadata": {
  "kernelspec": {
   "display_name": "Python 3 (ipykernel)",
   "language": "python",
   "name": "python3"
  },
  "language_info": {
   "codemirror_mode": {
    "name": "ipython",
    "version": 3
   },
   "file_extension": ".py",
   "mimetype": "text/x-python",
   "name": "python",
   "nbconvert_exporter": "python",
   "pygments_lexer": "ipython3",
   "version": "3.11.3"
  }
 },
 "nbformat": 4,
 "nbformat_minor": 5
}
